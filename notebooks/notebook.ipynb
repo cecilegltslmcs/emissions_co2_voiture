{
 "cells": [
  {
   "cell_type": "markdown",
   "metadata": {},
   "source": [
    "# Prédiction des émissions de CO2 d'un véhicule en fonction de ces caractéristiques"
   ]
  },
  {
   "cell_type": "markdown",
   "metadata": {},
   "source": [
    "- Import des libraries et des données"
   ]
  },
  {
   "cell_type": "code",
   "execution_count": 1,
   "metadata": {},
   "outputs": [],
   "source": [
    "# libraries used for data exploration\n",
    "import numpy as np\n",
    "import pandas as pd\n",
    "import sqlite3\n",
    "import matplotlib.pyplot as plt\n",
    "import seaborn as sns\n",
    "from skimpy import skim\n",
    "from scipy.stats import kurtosis, skew\n",
    "import pingouin as pg\n",
    "\n",
    "# librairies used for machine learning\n",
    "from sklearn.ensemble import RandomForestRegressor\n",
    "from sklearn.feature_extraction import DictVectorizer\n",
    "from sklearn.dummy import DummyRegressor\n",
    "from sklearn.model_selection import train_test_split, GridSearchCV, RandomizedSearchCV\n",
    "from sklearn.metrics import mean_squared_error, mean_absolute_percentage_error\n",
    "from sklearn.tree import DecisionTreeRegressor, export_text\n",
    "\n",
    "# utils\n",
    "import gc\n",
    "from scipy.stats import randint\n",
    "\n",
    "import warnings\n",
    "warnings.filterwarnings('ignore')"
   ]
  },
  {
   "cell_type": "code",
   "execution_count": 2,
   "metadata": {},
   "outputs": [],
   "source": [
    "def distribution_analysis(dataframe, variable, dataframe_and_variable):\n",
    "    sns.histplot(\n",
    "    data = dataframe,\n",
    "    x = variable,\n",
    "    kde=True\n",
    "    )\n",
    "\n",
    "    plt.title(f\"Distribution de la variable {variable}\")\n",
    "    plt.show()\n",
    "\n",
    "    skewness = skew(dataframe_and_variable)\n",
    "    kurtosis_var = kurtosis(dataframe_and_variable)\n",
    "    normality = pg.normality(\n",
    "        dataframe_and_variable,\n",
    "        method=\"normaltest\"\n",
    "        )\n",
    "\n",
    "    print(f\"Skewness : {skewness}  - Kurtosis : {kurtosis_var}\\nTest de normalité de la distribution\\n{normality}\")\n",
    "\n",
    "def numerical_analysis(dataframe, variable):\n",
    "    sns.boxplot(\n",
    "    x=variable,\n",
    "    data=dataframe\n",
    "    )\n",
    "    plt.title(f'Boîte à moustaches de la variable {variable}')\n",
    "    plt.show()\n",
    "\n",
    "    print(dataframe[variable].describe())\n",
    "\n",
    "def categorical_analysis(dataframe, variable):\n",
    "    sns.countplot(\n",
    "        x = variable,\n",
    "        data = dataframe,\n",
    "        stat=\"percent\"\n",
    "    )\n",
    "    plt.title(f\"Répartition des véhicules en fontion de la variable : {col}\")\n",
    "    plt.ylabel(\"Pourcentage (%)\")\n",
    "    plt.xticks(rotation=90)\n",
    "    plt.show()\n",
    "\n",
    "def linear_regression_analysis(dataframe, variable, target):\n",
    "    sns.lmplot(\n",
    "        data=dataframe,\n",
    "        x=target,\n",
    "        y=variable\n",
    "        )\n",
    "    plt.title(f\"Interaction entre {target} et {variable}\")\n",
    "    plt.show()\n",
    "    lm = pg.linear_regression(dataframe[target], dataframe[variable])\n",
    "    print(lm.round(2))\n",
    "\n",
    "def categorical_relation(dataframe, variable, target):\n",
    "    sns.boxplot(\n",
    "        data=dataframe,\n",
    "        x=variable,\n",
    "        y=target\n",
    "        )\n",
    "    plt.title(f\"Interaction entre {target} et {variable}\")\n",
    "    plt.xticks(rotation=90)\n",
    "    plt.show()\n",
    "\n",
    "    aov = pg.anova(\n",
    "        dv=target,\n",
    "        between=variable,\n",
    "        data=dataframe,\n",
    "        detailed=True\n",
    "        )\n",
    "    print(aov.round(2))"
   ]
  },
  {
   "cell_type": "code",
   "execution_count": 3,
   "metadata": {},
   "outputs": [],
   "source": [
    "conn = sqlite3.connect('../datasets/ademe_car_labeling.db')"
   ]
  },
  {
   "cell_type": "code",
   "execution_count": 15,
   "metadata": {},
   "outputs": [],
   "source": [
    "df = pd.read_sql(\"SELECT * FROM car_information\", con=conn)"
   ]
  },
  {
   "cell_type": "code",
   "execution_count": 16,
   "metadata": {},
   "outputs": [
    {
     "data": {
      "text/html": [
       "<div>\n",
       "<style scoped>\n",
       "    .dataframe tbody tr th:only-of-type {\n",
       "        vertical-align: middle;\n",
       "    }\n",
       "\n",
       "    .dataframe tbody tr th {\n",
       "        vertical-align: top;\n",
       "    }\n",
       "\n",
       "    .dataframe thead th {\n",
       "        text-align: right;\n",
       "    }\n",
       "</style>\n",
       "<table border=\"1\" class=\"dataframe\">\n",
       "  <thead>\n",
       "    <tr style=\"text-align: right;\">\n",
       "      <th></th>\n",
       "      <th>index</th>\n",
       "      <th>Marque</th>\n",
       "      <th>Modèle</th>\n",
       "      <th>Energie</th>\n",
       "      <th>Carrosserie</th>\n",
       "      <th>Cylindrée</th>\n",
       "      <th>Gamme</th>\n",
       "      <th>Puissance fiscale</th>\n",
       "      <th>Puissance maximale</th>\n",
       "      <th>Puissance nominale électrique</th>\n",
       "      <th>...</th>\n",
       "      <th>Bonus-Malus</th>\n",
       "      <th>Conso basse vitesse</th>\n",
       "      <th>Conso moyenne vitesse</th>\n",
       "      <th>Conso haute vitesse</th>\n",
       "      <th>Conso T-haute vitesse</th>\n",
       "      <th>Conso vitesse mixte</th>\n",
       "      <th>Conso elec</th>\n",
       "      <th>Autonomie elec</th>\n",
       "      <th>Autonomie elec urbain</th>\n",
       "      <th>Emission CO2</th>\n",
       "    </tr>\n",
       "  </thead>\n",
       "  <tbody>\n",
       "    <tr>\n",
       "      <th>0</th>\n",
       "      <td>0</td>\n",
       "      <td>RENAULT</td>\n",
       "      <td>KANGOO</td>\n",
       "      <td>ESSENCE</td>\n",
       "      <td>COMBISPACE</td>\n",
       "      <td>1332</td>\n",
       "      <td>INFERIEURE</td>\n",
       "      <td>7</td>\n",
       "      <td>96.0</td>\n",
       "      <td>NaN</td>\n",
       "      <td>...</td>\n",
       "      <td>Malus</td>\n",
       "      <td>8.7405</td>\n",
       "      <td>6.7880</td>\n",
       "      <td>6.188</td>\n",
       "      <td>7.9175</td>\n",
       "      <td>7.2635</td>\n",
       "      <td>NaN</td>\n",
       "      <td>NaN</td>\n",
       "      <td>NaN</td>\n",
       "      <td>167.272</td>\n",
       "    </tr>\n",
       "    <tr>\n",
       "      <th>1</th>\n",
       "      <td>1</td>\n",
       "      <td>MAZDA</td>\n",
       "      <td>MX-30</td>\n",
       "      <td>ELECTRIC</td>\n",
       "      <td>TS TERRAINS/CHEMINS</td>\n",
       "      <td>0</td>\n",
       "      <td>INFERIEURE</td>\n",
       "      <td>6</td>\n",
       "      <td>NaN</td>\n",
       "      <td>80.9</td>\n",
       "      <td>...</td>\n",
       "      <td>Bonus 6000</td>\n",
       "      <td>NaN</td>\n",
       "      <td>NaN</td>\n",
       "      <td>NaN</td>\n",
       "      <td>NaN</td>\n",
       "      <td>NaN</td>\n",
       "      <td>NaN</td>\n",
       "      <td>NaN</td>\n",
       "      <td>NaN</td>\n",
       "      <td>NaN</td>\n",
       "    </tr>\n",
       "    <tr>\n",
       "      <th>2</th>\n",
       "      <td>2</td>\n",
       "      <td>DS</td>\n",
       "      <td>7 CROSSBACK</td>\n",
       "      <td>ELEC+ESSENC HR</td>\n",
       "      <td>TS TERRAINS/CHEMINS</td>\n",
       "      <td>1598</td>\n",
       "      <td>MOYENNE SUPERIEURE</td>\n",
       "      <td>10</td>\n",
       "      <td>133.0</td>\n",
       "      <td>30.0</td>\n",
       "      <td>...</td>\n",
       "      <td>Neutre 0</td>\n",
       "      <td>NaN</td>\n",
       "      <td>NaN</td>\n",
       "      <td>NaN</td>\n",
       "      <td>NaN</td>\n",
       "      <td>1.5340</td>\n",
       "      <td>162.5</td>\n",
       "      <td>58.5</td>\n",
       "      <td>67.5</td>\n",
       "      <td>NaN</td>\n",
       "    </tr>\n",
       "    <tr>\n",
       "      <th>3</th>\n",
       "      <td>3</td>\n",
       "      <td>RENAULT</td>\n",
       "      <td>AUSTRAL</td>\n",
       "      <td>ESS+ELEC HNR</td>\n",
       "      <td>TS TERRAINS/CHEMINS</td>\n",
       "      <td>1199</td>\n",
       "      <td>MOYENNE SUPERIEURE</td>\n",
       "      <td>7</td>\n",
       "      <td>96.0</td>\n",
       "      <td>0.0</td>\n",
       "      <td>...</td>\n",
       "      <td>Neutre 0</td>\n",
       "      <td>6.5805</td>\n",
       "      <td>5.0200</td>\n",
       "      <td>4.834</td>\n",
       "      <td>5.9555</td>\n",
       "      <td>5.5025</td>\n",
       "      <td>NaN</td>\n",
       "      <td>NaN</td>\n",
       "      <td>NaN</td>\n",
       "      <td>126.073</td>\n",
       "    </tr>\n",
       "    <tr>\n",
       "      <th>4</th>\n",
       "      <td>4</td>\n",
       "      <td>B.M.W.</td>\n",
       "      <td>218</td>\n",
       "      <td>ESSENCE</td>\n",
       "      <td>MONOSPACE COMPACT</td>\n",
       "      <td>1499</td>\n",
       "      <td>MOYENNE INFERIEURE</td>\n",
       "      <td>7</td>\n",
       "      <td>100.0</td>\n",
       "      <td>NaN</td>\n",
       "      <td>...</td>\n",
       "      <td>Malus</td>\n",
       "      <td>8.9420</td>\n",
       "      <td>6.6295</td>\n",
       "      <td>5.637</td>\n",
       "      <td>6.4505</td>\n",
       "      <td>6.5680</td>\n",
       "      <td>NaN</td>\n",
       "      <td>NaN</td>\n",
       "      <td>NaN</td>\n",
       "      <td>155.826</td>\n",
       "    </tr>\n",
       "  </tbody>\n",
       "</table>\n",
       "<p>5 rows × 24 columns</p>\n",
       "</div>"
      ],
      "text/plain": [
       "   index   Marque       Modèle         Energie          Carrosserie  \\\n",
       "0      0  RENAULT       KANGOO         ESSENCE           COMBISPACE   \n",
       "1      1    MAZDA        MX-30        ELECTRIC  TS TERRAINS/CHEMINS   \n",
       "2      2       DS  7 CROSSBACK  ELEC+ESSENC HR  TS TERRAINS/CHEMINS   \n",
       "3      3  RENAULT      AUSTRAL    ESS+ELEC HNR  TS TERRAINS/CHEMINS   \n",
       "4      4   B.M.W.          218         ESSENCE    MONOSPACE COMPACT   \n",
       "\n",
       "   Cylindrée               Gamme  Puissance fiscale  Puissance maximale  \\\n",
       "0       1332          INFERIEURE                  7                96.0   \n",
       "1          0          INFERIEURE                  6                 NaN   \n",
       "2       1598  MOYENNE SUPERIEURE                 10               133.0   \n",
       "3       1199  MOYENNE SUPERIEURE                  7                96.0   \n",
       "4       1499  MOYENNE INFERIEURE                  7               100.0   \n",
       "\n",
       "   Puissance nominale électrique  ...  Bonus-Malus  Conso basse vitesse  \\\n",
       "0                            NaN  ...        Malus               8.7405   \n",
       "1                           80.9  ...   Bonus 6000                  NaN   \n",
       "2                           30.0  ...     Neutre 0                  NaN   \n",
       "3                            0.0  ...     Neutre 0               6.5805   \n",
       "4                            NaN  ...        Malus               8.9420   \n",
       "\n",
       "  Conso moyenne vitesse  Conso haute vitesse Conso T-haute vitesse  \\\n",
       "0                6.7880                6.188                7.9175   \n",
       "1                   NaN                  NaN                   NaN   \n",
       "2                   NaN                  NaN                   NaN   \n",
       "3                5.0200                4.834                5.9555   \n",
       "4                6.6295                5.637                6.4505   \n",
       "\n",
       "   Conso vitesse mixte  Conso elec  Autonomie elec  Autonomie elec urbain  \\\n",
       "0               7.2635         NaN             NaN                    NaN   \n",
       "1                  NaN         NaN             NaN                    NaN   \n",
       "2               1.5340       162.5            58.5                   67.5   \n",
       "3               5.5025         NaN             NaN                    NaN   \n",
       "4               6.5680         NaN             NaN                    NaN   \n",
       "\n",
       "   Emission CO2  \n",
       "0       167.272  \n",
       "1           NaN  \n",
       "2           NaN  \n",
       "3       126.073  \n",
       "4       155.826  \n",
       "\n",
       "[5 rows x 24 columns]"
      ]
     },
     "execution_count": 16,
     "metadata": {},
     "output_type": "execute_result"
    }
   ],
   "source": [
    "df.head()"
   ]
  },
  {
   "cell_type": "code",
   "execution_count": 17,
   "metadata": {},
   "outputs": [
    {
     "data": {
      "text/plain": [
       "'Emission CO2'"
      ]
     },
     "execution_count": 17,
     "metadata": {},
     "output_type": "execute_result"
    }
   ],
   "source": [
    "# create list to separe categorical & numerical variables\n",
    "# remove the target variables\n",
    "categorical = list(df.dtypes[df.dtypes == 'object'].index)\n",
    "numerical = [i for i in list(df.columns) if i not in categorical]\n",
    "numerical.pop(-1)"
   ]
  },
  {
   "cell_type": "code",
   "execution_count": 18,
   "metadata": {},
   "outputs": [],
   "source": [
    "for col in categorical:\n",
    "    df[col] = df[col].str.lower().str.replace(\" \", \"_\")"
   ]
  },
  {
   "cell_type": "code",
   "execution_count": 19,
   "metadata": {},
   "outputs": [
    {
     "data": {
      "text/html": [
       "<div>\n",
       "<style scoped>\n",
       "    .dataframe tbody tr th:only-of-type {\n",
       "        vertical-align: middle;\n",
       "    }\n",
       "\n",
       "    .dataframe tbody tr th {\n",
       "        vertical-align: top;\n",
       "    }\n",
       "\n",
       "    .dataframe thead th {\n",
       "        text-align: right;\n",
       "    }\n",
       "</style>\n",
       "<table border=\"1\" class=\"dataframe\">\n",
       "  <thead>\n",
       "    <tr style=\"text-align: right;\">\n",
       "      <th></th>\n",
       "      <th>index</th>\n",
       "      <th>Marque</th>\n",
       "      <th>Modèle</th>\n",
       "      <th>Energie</th>\n",
       "      <th>Carrosserie</th>\n",
       "      <th>Cylindrée</th>\n",
       "      <th>Gamme</th>\n",
       "      <th>Puissance fiscale</th>\n",
       "      <th>Puissance maximale</th>\n",
       "      <th>Puissance nominale électrique</th>\n",
       "      <th>...</th>\n",
       "      <th>Bonus-Malus</th>\n",
       "      <th>Conso basse vitesse</th>\n",
       "      <th>Conso moyenne vitesse</th>\n",
       "      <th>Conso haute vitesse</th>\n",
       "      <th>Conso T-haute vitesse</th>\n",
       "      <th>Conso vitesse mixte</th>\n",
       "      <th>Conso elec</th>\n",
       "      <th>Autonomie elec</th>\n",
       "      <th>Autonomie elec urbain</th>\n",
       "      <th>Emission CO2</th>\n",
       "    </tr>\n",
       "  </thead>\n",
       "  <tbody>\n",
       "    <tr>\n",
       "      <th>0</th>\n",
       "      <td>0</td>\n",
       "      <td>renault</td>\n",
       "      <td>kangoo</td>\n",
       "      <td>essence</td>\n",
       "      <td>combispace</td>\n",
       "      <td>1332</td>\n",
       "      <td>inferieure</td>\n",
       "      <td>7</td>\n",
       "      <td>96.0</td>\n",
       "      <td>NaN</td>\n",
       "      <td>...</td>\n",
       "      <td>malus</td>\n",
       "      <td>8.7405</td>\n",
       "      <td>6.7880</td>\n",
       "      <td>6.188</td>\n",
       "      <td>7.9175</td>\n",
       "      <td>7.2635</td>\n",
       "      <td>NaN</td>\n",
       "      <td>NaN</td>\n",
       "      <td>NaN</td>\n",
       "      <td>167.272</td>\n",
       "    </tr>\n",
       "    <tr>\n",
       "      <th>1</th>\n",
       "      <td>1</td>\n",
       "      <td>mazda</td>\n",
       "      <td>mx-30</td>\n",
       "      <td>electric</td>\n",
       "      <td>ts_terrains/chemins</td>\n",
       "      <td>0</td>\n",
       "      <td>inferieure</td>\n",
       "      <td>6</td>\n",
       "      <td>NaN</td>\n",
       "      <td>80.9</td>\n",
       "      <td>...</td>\n",
       "      <td>bonus_6000</td>\n",
       "      <td>NaN</td>\n",
       "      <td>NaN</td>\n",
       "      <td>NaN</td>\n",
       "      <td>NaN</td>\n",
       "      <td>NaN</td>\n",
       "      <td>NaN</td>\n",
       "      <td>NaN</td>\n",
       "      <td>NaN</td>\n",
       "      <td>NaN</td>\n",
       "    </tr>\n",
       "    <tr>\n",
       "      <th>2</th>\n",
       "      <td>2</td>\n",
       "      <td>ds</td>\n",
       "      <td>7_crossback</td>\n",
       "      <td>elec+essenc_hr</td>\n",
       "      <td>ts_terrains/chemins</td>\n",
       "      <td>1598</td>\n",
       "      <td>moyenne_superieure</td>\n",
       "      <td>10</td>\n",
       "      <td>133.0</td>\n",
       "      <td>30.0</td>\n",
       "      <td>...</td>\n",
       "      <td>neutre_0</td>\n",
       "      <td>NaN</td>\n",
       "      <td>NaN</td>\n",
       "      <td>NaN</td>\n",
       "      <td>NaN</td>\n",
       "      <td>1.5340</td>\n",
       "      <td>162.5</td>\n",
       "      <td>58.5</td>\n",
       "      <td>67.5</td>\n",
       "      <td>NaN</td>\n",
       "    </tr>\n",
       "    <tr>\n",
       "      <th>3</th>\n",
       "      <td>3</td>\n",
       "      <td>renault</td>\n",
       "      <td>austral</td>\n",
       "      <td>ess+elec_hnr</td>\n",
       "      <td>ts_terrains/chemins</td>\n",
       "      <td>1199</td>\n",
       "      <td>moyenne_superieure</td>\n",
       "      <td>7</td>\n",
       "      <td>96.0</td>\n",
       "      <td>0.0</td>\n",
       "      <td>...</td>\n",
       "      <td>neutre_0</td>\n",
       "      <td>6.5805</td>\n",
       "      <td>5.0200</td>\n",
       "      <td>4.834</td>\n",
       "      <td>5.9555</td>\n",
       "      <td>5.5025</td>\n",
       "      <td>NaN</td>\n",
       "      <td>NaN</td>\n",
       "      <td>NaN</td>\n",
       "      <td>126.073</td>\n",
       "    </tr>\n",
       "    <tr>\n",
       "      <th>4</th>\n",
       "      <td>4</td>\n",
       "      <td>b.m.w.</td>\n",
       "      <td>218</td>\n",
       "      <td>essence</td>\n",
       "      <td>monospace_compact</td>\n",
       "      <td>1499</td>\n",
       "      <td>moyenne_inferieure</td>\n",
       "      <td>7</td>\n",
       "      <td>100.0</td>\n",
       "      <td>NaN</td>\n",
       "      <td>...</td>\n",
       "      <td>malus</td>\n",
       "      <td>8.9420</td>\n",
       "      <td>6.6295</td>\n",
       "      <td>5.637</td>\n",
       "      <td>6.4505</td>\n",
       "      <td>6.5680</td>\n",
       "      <td>NaN</td>\n",
       "      <td>NaN</td>\n",
       "      <td>NaN</td>\n",
       "      <td>155.826</td>\n",
       "    </tr>\n",
       "  </tbody>\n",
       "</table>\n",
       "<p>5 rows × 24 columns</p>\n",
       "</div>"
      ],
      "text/plain": [
       "   index   Marque       Modèle         Energie          Carrosserie  \\\n",
       "0      0  renault       kangoo         essence           combispace   \n",
       "1      1    mazda        mx-30        electric  ts_terrains/chemins   \n",
       "2      2       ds  7_crossback  elec+essenc_hr  ts_terrains/chemins   \n",
       "3      3  renault      austral    ess+elec_hnr  ts_terrains/chemins   \n",
       "4      4   b.m.w.          218         essence    monospace_compact   \n",
       "\n",
       "   Cylindrée               Gamme  Puissance fiscale  Puissance maximale  \\\n",
       "0       1332          inferieure                  7                96.0   \n",
       "1          0          inferieure                  6                 NaN   \n",
       "2       1598  moyenne_superieure                 10               133.0   \n",
       "3       1199  moyenne_superieure                  7                96.0   \n",
       "4       1499  moyenne_inferieure                  7               100.0   \n",
       "\n",
       "   Puissance nominale électrique  ...  Bonus-Malus  Conso basse vitesse  \\\n",
       "0                            NaN  ...        malus               8.7405   \n",
       "1                           80.9  ...   bonus_6000                  NaN   \n",
       "2                           30.0  ...     neutre_0                  NaN   \n",
       "3                            0.0  ...     neutre_0               6.5805   \n",
       "4                            NaN  ...        malus               8.9420   \n",
       "\n",
       "  Conso moyenne vitesse  Conso haute vitesse Conso T-haute vitesse  \\\n",
       "0                6.7880                6.188                7.9175   \n",
       "1                   NaN                  NaN                   NaN   \n",
       "2                   NaN                  NaN                   NaN   \n",
       "3                5.0200                4.834                5.9555   \n",
       "4                6.6295                5.637                6.4505   \n",
       "\n",
       "   Conso vitesse mixte  Conso elec  Autonomie elec  Autonomie elec urbain  \\\n",
       "0               7.2635         NaN             NaN                    NaN   \n",
       "1                  NaN         NaN             NaN                    NaN   \n",
       "2               1.5340       162.5            58.5                   67.5   \n",
       "3               5.5025         NaN             NaN                    NaN   \n",
       "4               6.5680         NaN             NaN                    NaN   \n",
       "\n",
       "   Emission CO2  \n",
       "0       167.272  \n",
       "1           NaN  \n",
       "2           NaN  \n",
       "3       126.073  \n",
       "4       155.826  \n",
       "\n",
       "[5 rows x 24 columns]"
      ]
     },
     "execution_count": 19,
     "metadata": {},
     "output_type": "execute_result"
    }
   ],
   "source": [
    "df.head()"
   ]
  },
  {
   "cell_type": "markdown",
   "metadata": {},
   "source": [
    "## 1) Préparation des données"
   ]
  },
  {
   "cell_type": "code",
   "execution_count": 20,
   "metadata": {},
   "outputs": [
    {
     "data": {
      "text/plain": [
       "(7679, 24)"
      ]
     },
     "execution_count": 20,
     "metadata": {},
     "output_type": "execute_result"
    }
   ],
   "source": [
    "df.shape"
   ]
  },
  {
   "cell_type": "code",
   "execution_count": 21,
   "metadata": {},
   "outputs": [
    {
     "data": {
      "text/html": [
       "<pre style=\"white-space:pre;overflow-x:auto;line-height:normal;font-family:Menlo,'DejaVu Sans Mono',consolas,'Courier New',monospace\">╭──────────────────────────────────────────────── skimpy summary ─────────────────────────────────────────────────╮\n",
       "│ <span style=\"font-style: italic\">         Data Summary         </span> <span style=\"font-style: italic\">      Data Types       </span>                                                          │\n",
       "│ ┏━━━━━━━━━━━━━━━━━━━┳━━━━━━━━┓ ┏━━━━━━━━━━━━━┳━━━━━━━┓                                                          │\n",
       "│ ┃<span style=\"color: #008080; text-decoration-color: #008080; font-weight: bold\"> dataframe         </span>┃<span style=\"color: #008080; text-decoration-color: #008080; font-weight: bold\"> Values </span>┃ ┃<span style=\"color: #008080; text-decoration-color: #008080; font-weight: bold\"> Column Type </span>┃<span style=\"color: #008080; text-decoration-color: #008080; font-weight: bold\"> Count </span>┃                                                          │\n",
       "│ ┡━━━━━━━━━━━━━━━━━━━╇━━━━━━━━┩ ┡━━━━━━━━━━━━━╇━━━━━━━┩                                                          │\n",
       "│ │ Number of rows    │ 7679   │ │ float64     │ 12    │                                                          │\n",
       "│ │ Number of columns │ 24     │ │ string      │ 7     │                                                          │\n",
       "│ └───────────────────┴────────┘ │ int32       │ 5     │                                                          │\n",
       "│                                └─────────────┴───────┘                                                          │\n",
       "│ <span style=\"font-style: italic\">                                                    number                                                    </span>  │\n",
       "│ ┏━━━━━━━━━━━━━━━━━━━━━━━━━┳━━━━━━━┳━━━━━━━━┳━━━━━━━━┳━━━━━━━━┳━━━━━━━┳━━━━━━━┳━━━━━━━┳━━━━━━━┳━━━━━━┳━━━━━━━━┓  │\n",
       "│ ┃<span style=\"font-weight: bold\"> column_name             </span>┃<span style=\"font-weight: bold\"> NA    </span>┃<span style=\"font-weight: bold\"> NA %   </span>┃<span style=\"font-weight: bold\"> mean   </span>┃<span style=\"font-weight: bold\"> sd     </span>┃<span style=\"font-weight: bold\"> p0    </span>┃<span style=\"font-weight: bold\"> p25   </span>┃<span style=\"font-weight: bold\"> p50   </span>┃<span style=\"font-weight: bold\"> p75   </span>┃<span style=\"font-weight: bold\"> p100 </span>┃<span style=\"font-weight: bold\"> hist   </span>┃  │\n",
       "│ ┡━━━━━━━━━━━━━━━━━━━━━━━━━╇━━━━━━━╇━━━━━━━━╇━━━━━━━━╇━━━━━━━━╇━━━━━━━╇━━━━━━━╇━━━━━━━╇━━━━━━━╇━━━━━━╇━━━━━━━━┩  │\n",
       "│ │ <span style=\"color: #af87ff; text-decoration-color: #af87ff\">index                  </span> │ <span style=\"color: #008080; text-decoration-color: #008080\">    0</span> │ <span style=\"color: #008080; text-decoration-color: #008080\">     0</span> │ <span style=\"color: #008080; text-decoration-color: #008080\">  3800</span> │ <span style=\"color: #008080; text-decoration-color: #008080\">  2200</span> │ <span style=\"color: #008080; text-decoration-color: #008080\">    0</span> │ <span style=\"color: #008080; text-decoration-color: #008080\"> 1900</span> │ <span style=\"color: #008080; text-decoration-color: #008080\"> 3800</span> │ <span style=\"color: #008080; text-decoration-color: #008080\"> 5800</span> │ <span style=\"color: #008080; text-decoration-color: #008080\">7700</span> │ <span style=\"color: #008000; text-decoration-color: #008000\">▇▇▇▇▇▇</span> │  │\n",
       "│ │ <span style=\"color: #af87ff; text-decoration-color: #af87ff\">Cylindrée              </span> │ <span style=\"color: #008080; text-decoration-color: #008080\">    0</span> │ <span style=\"color: #008080; text-decoration-color: #008080\">     0</span> │ <span style=\"color: #008080; text-decoration-color: #008080\">  1700</span> │ <span style=\"color: #008080; text-decoration-color: #008080\">   680</span> │ <span style=\"color: #008080; text-decoration-color: #008080\">    0</span> │ <span style=\"color: #008080; text-decoration-color: #008080\"> 1400</span> │ <span style=\"color: #008080; text-decoration-color: #008080\"> 1600</span> │ <span style=\"color: #008080; text-decoration-color: #008080\"> 2000</span> │ <span style=\"color: #008080; text-decoration-color: #008080\">6700</span> │ <span style=\"color: #008000; text-decoration-color: #008000\"> ▂▇▁  </span> │  │\n",
       "│ │ <span style=\"color: #af87ff; text-decoration-color: #af87ff\">Puissance fiscale      </span> │ <span style=\"color: #008080; text-decoration-color: #008080\">    0</span> │ <span style=\"color: #008080; text-decoration-color: #008080\">     0</span> │ <span style=\"color: #008080; text-decoration-color: #008080\">    10</span> │ <span style=\"color: #008080; text-decoration-color: #008080\">   7.7</span> │ <span style=\"color: #008080; text-decoration-color: #008080\">    1</span> │ <span style=\"color: #008080; text-decoration-color: #008080\">    6</span> │ <span style=\"color: #008080; text-decoration-color: #008080\">    8</span> │ <span style=\"color: #008080; text-decoration-color: #008080\">   10</span> │ <span style=\"color: #008080; text-decoration-color: #008080\">  91</span> │ <span style=\"color: #008000; text-decoration-color: #008000\">  ▇▁  </span> │  │\n",
       "│ │ <span style=\"color: #af87ff; text-decoration-color: #af87ff\">Puissance maximale     </span> │ <span style=\"color: #008080; text-decoration-color: #008080\">  269</span> │ <span style=\"color: #008080; text-decoration-color: #008080\">   3.5</span> │ <span style=\"color: #008080; text-decoration-color: #008080\">   130</span> │ <span style=\"color: #008080; text-decoration-color: #008080\">    66</span> │ <span style=\"color: #008080; text-decoration-color: #008080\">   48</span> │ <span style=\"color: #008080; text-decoration-color: #008080\">   92</span> │ <span style=\"color: #008080; text-decoration-color: #008080\">  110</span> │ <span style=\"color: #008080; text-decoration-color: #008080\">  140</span> │ <span style=\"color: #008080; text-decoration-color: #008080\"> 610</span> │ <span style=\"color: #008000; text-decoration-color: #008000\"> ▇▂▁  </span> │  │\n",
       "│ │ <span style=\"color: #af87ff; text-decoration-color: #af87ff\">Puissance nominale     </span> │ <span style=\"color: #008080; text-decoration-color: #008080\"> 4925</span> │ <span style=\"color: #008080; text-decoration-color: #008080\"> 64.14</span> │ <span style=\"color: #008080; text-decoration-color: #008080\">    25</span> │ <span style=\"color: #008080; text-decoration-color: #008080\">    32</span> │ <span style=\"color: #008080; text-decoration-color: #008080\">    0</span> │ <span style=\"color: #008080; text-decoration-color: #008080\">    0</span> │ <span style=\"color: #008080; text-decoration-color: #008080\">   10</span> │ <span style=\"color: #008080; text-decoration-color: #008080\">   48</span> │ <span style=\"color: #008080; text-decoration-color: #008080\"> 200</span> │ <span style=\"color: #008000; text-decoration-color: #008000\"> ▇▂▁  </span> │  │\n",
       "│ │ <span style=\"color: #af87ff; text-decoration-color: #af87ff\">électrique             </span> │       │        │        │        │       │       │       │       │      │        │  │\n",
       "│ │ <span style=\"color: #af87ff; text-decoration-color: #af87ff\">Poids à vide           </span> │ <span style=\"color: #008080; text-decoration-color: #008080\">    0</span> │ <span style=\"color: #008080; text-decoration-color: #008080\">     0</span> │ <span style=\"color: #008080; text-decoration-color: #008080\">  1600</span> │ <span style=\"color: #008080; text-decoration-color: #008080\">   340</span> │ <span style=\"color: #008080; text-decoration-color: #008080\">  840</span> │ <span style=\"color: #008080; text-decoration-color: #008080\"> 1300</span> │ <span style=\"color: #008080; text-decoration-color: #008080\"> 1500</span> │ <span style=\"color: #008080; text-decoration-color: #008080\"> 1800</span> │ <span style=\"color: #008080; text-decoration-color: #008080\">2700</span> │ <span style=\"color: #008000; text-decoration-color: #008000\">▂▇▆▃▁ </span> │  │\n",
       "│ │ <span style=\"color: #af87ff; text-decoration-color: #af87ff\">Rapport poids-puissance</span> │ <span style=\"color: #008080; text-decoration-color: #008080\">    0</span> │ <span style=\"color: #008080; text-decoration-color: #008080\">     0</span> │ <span style=\"color: #008080; text-decoration-color: #008080\"> 0.079</span> │ <span style=\"color: #008080; text-decoration-color: #008080\"> 0.035</span> │ <span style=\"color: #008080; text-decoration-color: #008080\">    0</span> │ <span style=\"color: #008080; text-decoration-color: #008080\"> 0.06</span> │ <span style=\"color: #008080; text-decoration-color: #008080\"> 0.07</span> │ <span style=\"color: #008080; text-decoration-color: #008080\"> 0.09</span> │ <span style=\"color: #008080; text-decoration-color: #008080\">0.37</span> │ <span style=\"color: #008000; text-decoration-color: #008000\"> ▃▇▁  </span> │  │\n",
       "│ │ <span style=\"color: #af87ff; text-decoration-color: #af87ff\">Nombre rapports        </span> │ <span style=\"color: #008080; text-decoration-color: #008080\">    0</span> │ <span style=\"color: #008080; text-decoration-color: #008080\">     0</span> │ <span style=\"color: #008080; text-decoration-color: #008080\">   6.7</span> │ <span style=\"color: #008080; text-decoration-color: #008080\">   1.9</span> │ <span style=\"color: #008080; text-decoration-color: #008080\">    0</span> │ <span style=\"color: #008080; text-decoration-color: #008080\">    6</span> │ <span style=\"color: #008080; text-decoration-color: #008080\">    7</span> │ <span style=\"color: #008080; text-decoration-color: #008080\">    8</span> │ <span style=\"color: #008080; text-decoration-color: #008080\">   9</span> │ <span style=\"color: #008000; text-decoration-color: #008000\">▁   ▇▆</span> │  │\n",
       "│ │ <span style=\"color: #af87ff; text-decoration-color: #af87ff\">Conso basse vitesse    </span> │ <span style=\"color: #008080; text-decoration-color: #008080\">  989</span> │ <span style=\"color: #008080; text-decoration-color: #008080\"> 12.88</span> │ <span style=\"color: #008080; text-decoration-color: #008080\">     8</span> │ <span style=\"color: #008080; text-decoration-color: #008080\">   2.2</span> │ <span style=\"color: #008080; text-decoration-color: #008080\">  3.2</span> │ <span style=\"color: #008080; text-decoration-color: #008080\">  6.7</span> │ <span style=\"color: #008080; text-decoration-color: #008080\">  7.8</span> │ <span style=\"color: #008080; text-decoration-color: #008080\">  8.9</span> │ <span style=\"color: #008080; text-decoration-color: #008080\">  30</span> │ <span style=\"color: #008000; text-decoration-color: #008000\">  ▇▇  </span> │  │\n",
       "│ │ <span style=\"color: #af87ff; text-decoration-color: #af87ff\">Conso moyenne vitesse  </span> │ <span style=\"color: #008080; text-decoration-color: #008080\">  989</span> │ <span style=\"color: #008080; text-decoration-color: #008080\"> 12.88</span> │ <span style=\"color: #008080; text-decoration-color: #008080\">   6.1</span> │ <span style=\"color: #008080; text-decoration-color: #008080\">   1.3</span> │ <span style=\"color: #008080; text-decoration-color: #008080\">  3.3</span> │ <span style=\"color: #008080; text-decoration-color: #008080\">  5.2</span> │ <span style=\"color: #008080; text-decoration-color: #008080\">  5.9</span> │ <span style=\"color: #008080; text-decoration-color: #008080\">  6.7</span> │ <span style=\"color: #008080; text-decoration-color: #008080\">  18</span> │ <span style=\"color: #008000; text-decoration-color: #008000\"> ▆▇▁  </span> │  │\n",
       "│ │ <span style=\"color: #af87ff; text-decoration-color: #af87ff\">Conso haute vitesse    </span> │ <span style=\"color: #008080; text-decoration-color: #008080\">  989</span> │ <span style=\"color: #008080; text-decoration-color: #008080\"> 12.88</span> │ <span style=\"color: #008080; text-decoration-color: #008080\">   5.4</span> │ <span style=\"color: #008080; text-decoration-color: #008080\">     1</span> │ <span style=\"color: #008080; text-decoration-color: #008080\">  3.7</span> │ <span style=\"color: #008080; text-decoration-color: #008080\">  4.7</span> │ <span style=\"color: #008080; text-decoration-color: #008080\">  5.3</span> │ <span style=\"color: #008080; text-decoration-color: #008080\">  5.8</span> │ <span style=\"color: #008080; text-decoration-color: #008080\">  14</span> │ <span style=\"color: #008000; text-decoration-color: #008000\"> ▇▆▁  </span> │  │\n",
       "│ │ <span style=\"color: #af87ff; text-decoration-color: #af87ff\">Conso T-haute vitesse  </span> │ <span style=\"color: #008080; text-decoration-color: #008080\">  989</span> │ <span style=\"color: #008080; text-decoration-color: #008080\"> 12.88</span> │ <span style=\"color: #008080; text-decoration-color: #008080\">   6.5</span> │ <span style=\"color: #008080; text-decoration-color: #008080\">   1.1</span> │ <span style=\"color: #008080; text-decoration-color: #008080\">  4.2</span> │ <span style=\"color: #008080; text-decoration-color: #008080\">  5.7</span> │ <span style=\"color: #008080; text-decoration-color: #008080\">  6.3</span> │ <span style=\"color: #008080; text-decoration-color: #008080\">    7</span> │ <span style=\"color: #008080; text-decoration-color: #008080\">  14</span> │ <span style=\"color: #008000; text-decoration-color: #008000\"> ▅▇▂  </span> │  │\n",
       "│ │ <span style=\"color: #af87ff; text-decoration-color: #af87ff\">Conso vitesse mixte    </span> │ <span style=\"color: #008080; text-decoration-color: #008080\">  395</span> │ <span style=\"color: #008080; text-decoration-color: #008080\">  5.14</span> │ <span style=\"color: #008080; text-decoration-color: #008080\">   5.9</span> │ <span style=\"color: #008080; text-decoration-color: #008080\">   1.7</span> │ <span style=\"color: #008080; text-decoration-color: #008080\"> 0.56</span> │ <span style=\"color: #008080; text-decoration-color: #008080\">  5.2</span> │ <span style=\"color: #008080; text-decoration-color: #008080\">    6</span> │ <span style=\"color: #008080; text-decoration-color: #008080\">  6.8</span> │ <span style=\"color: #008080; text-decoration-color: #008080\">  17</span> │ <span style=\"color: #008000; text-decoration-color: #008000\"> ▁▆▇  </span> │  │\n",
       "│ │ <span style=\"color: #af87ff; text-decoration-color: #af87ff\">Conso elec             </span> │ <span style=\"color: #008080; text-decoration-color: #008080\"> 6861</span> │ <span style=\"color: #008080; text-decoration-color: #008080\"> 89.35</span> │ <span style=\"color: #008080; text-decoration-color: #008080\">   200</span> │ <span style=\"color: #008080; text-decoration-color: #008080\">    42</span> │ <span style=\"color: #008080; text-decoration-color: #008080\">  130</span> │ <span style=\"color: #008080; text-decoration-color: #008080\">  160</span> │ <span style=\"color: #008080; text-decoration-color: #008080\">  190</span> │ <span style=\"color: #008080; text-decoration-color: #008080\">  240</span> │ <span style=\"color: #008080; text-decoration-color: #008080\"> 290</span> │ <span style=\"color: #008000; text-decoration-color: #008000\">▇▇▅▃▆▂</span> │  │\n",
       "│ │ <span style=\"color: #af87ff; text-decoration-color: #af87ff\">Autonomie elec         </span> │ <span style=\"color: #008080; text-decoration-color: #008080\"> 6861</span> │ <span style=\"color: #008080; text-decoration-color: #008080\"> 89.35</span> │ <span style=\"color: #008080; text-decoration-color: #008080\">   140</span> │ <span style=\"color: #008080; text-decoration-color: #008080\">   140</span> │ <span style=\"color: #008080; text-decoration-color: #008080\">   40</span> │ <span style=\"color: #008080; text-decoration-color: #008080\">   50</span> │ <span style=\"color: #008080; text-decoration-color: #008080\">   64</span> │ <span style=\"color: #008080; text-decoration-color: #008080\">  120</span> │ <span style=\"color: #008080; text-decoration-color: #008080\"> 680</span> │ <span style=\"color: #008000; text-decoration-color: #008000\"> ▇ ▁▁ </span> │  │\n",
       "│ │ <span style=\"color: #af87ff; text-decoration-color: #af87ff\">Autonomie elec urbain  </span> │ <span style=\"color: #008080; text-decoration-color: #008080\"> 6861</span> │ <span style=\"color: #008080; text-decoration-color: #008080\"> 89.35</span> │ <span style=\"color: #008080; text-decoration-color: #008080\">   170</span> │ <span style=\"color: #008080; text-decoration-color: #008080\">   180</span> │ <span style=\"color: #008080; text-decoration-color: #008080\">   41</span> │ <span style=\"color: #008080; text-decoration-color: #008080\">   55</span> │ <span style=\"color: #008080; text-decoration-color: #008080\">   74</span> │ <span style=\"color: #008080; text-decoration-color: #008080\">  170</span> │ <span style=\"color: #008080; text-decoration-color: #008080\"> 740</span> │ <span style=\"color: #008000; text-decoration-color: #008000\">▇  ▁▁ </span> │  │\n",
       "│ │ <span style=\"color: #af87ff; text-decoration-color: #af87ff\">Emission CO2           </span> │ <span style=\"color: #008080; text-decoration-color: #008080\">  989</span> │ <span style=\"color: #008080; text-decoration-color: #008080\"> 12.88</span> │ <span style=\"color: #008080; text-decoration-color: #008080\">   150</span> │ <span style=\"color: #008080; text-decoration-color: #008080\">    31</span> │ <span style=\"color: #008080; text-decoration-color: #008080\">   93</span> │ <span style=\"color: #008080; text-decoration-color: #008080\">  140</span> │ <span style=\"color: #008080; text-decoration-color: #008080\">  150</span> │ <span style=\"color: #008080; text-decoration-color: #008080\">  160</span> │ <span style=\"color: #008080; text-decoration-color: #008080\"> 410</span> │ <span style=\"color: #008000; text-decoration-color: #008000\"> ▇▇▁  </span> │  │\n",
       "│ └─────────────────────────┴───────┴────────┴────────┴────────┴───────┴───────┴───────┴───────┴──────┴────────┘  │\n",
       "│ <span style=\"font-style: italic\">                                                    string                                                    </span>  │\n",
       "│ ┏━━━━━━━━━━━━━━━━━━━━━━━━━━━━━━┳━━━━━━━━┳━━━━━━━━━━━━┳━━━━━━━━━━━━━━━━━━━━━━━━━━━━━┳━━━━━━━━━━━━━━━━━━━━━━━━━┓  │\n",
       "│ ┃<span style=\"font-weight: bold\"> column_name                  </span>┃<span style=\"font-weight: bold\"> NA     </span>┃<span style=\"font-weight: bold\"> NA %       </span>┃<span style=\"font-weight: bold\"> words per row               </span>┃<span style=\"font-weight: bold\"> total words             </span>┃  │\n",
       "│ ┡━━━━━━━━━━━━━━━━━━━━━━━━━━━━━━╇━━━━━━━━╇━━━━━━━━━━━━╇━━━━━━━━━━━━━━━━━━━━━━━━━━━━━╇━━━━━━━━━━━━━━━━━━━━━━━━━┩  │\n",
       "│ │ <span style=\"color: #af87ff; text-decoration-color: #af87ff\">Marque                      </span> │ <span style=\"color: #008080; text-decoration-color: #008080\">     0</span> │ <span style=\"color: #008080; text-decoration-color: #008080\">         0</span> │ <span style=\"color: #008080; text-decoration-color: #008080\">                          1</span> │ <span style=\"color: #008080; text-decoration-color: #008080\">                   7679</span> │  │\n",
       "│ │ <span style=\"color: #af87ff; text-decoration-color: #af87ff\">Modèle                      </span> │ <span style=\"color: #008080; text-decoration-color: #008080\">     0</span> │ <span style=\"color: #008080; text-decoration-color: #008080\">         0</span> │ <span style=\"color: #008080; text-decoration-color: #008080\">                          1</span> │ <span style=\"color: #008080; text-decoration-color: #008080\">                   7679</span> │  │\n",
       "│ │ <span style=\"color: #af87ff; text-decoration-color: #af87ff\">Energie                     </span> │ <span style=\"color: #008080; text-decoration-color: #008080\">     0</span> │ <span style=\"color: #008080; text-decoration-color: #008080\">         0</span> │ <span style=\"color: #008080; text-decoration-color: #008080\">                          1</span> │ <span style=\"color: #008080; text-decoration-color: #008080\">                   7679</span> │  │\n",
       "│ │ <span style=\"color: #af87ff; text-decoration-color: #af87ff\">Carrosserie                 </span> │ <span style=\"color: #008080; text-decoration-color: #008080\">     0</span> │ <span style=\"color: #008080; text-decoration-color: #008080\">         0</span> │ <span style=\"color: #008080; text-decoration-color: #008080\">                          1</span> │ <span style=\"color: #008080; text-decoration-color: #008080\">                   7679</span> │  │\n",
       "│ │ <span style=\"color: #af87ff; text-decoration-color: #af87ff\">Gamme                       </span> │ <span style=\"color: #008080; text-decoration-color: #008080\">     0</span> │ <span style=\"color: #008080; text-decoration-color: #008080\">         0</span> │ <span style=\"color: #008080; text-decoration-color: #008080\">                          1</span> │ <span style=\"color: #008080; text-decoration-color: #008080\">                   7679</span> │  │\n",
       "│ │ <span style=\"color: #af87ff; text-decoration-color: #af87ff\">Type de boite               </span> │ <span style=\"color: #008080; text-decoration-color: #008080\">     0</span> │ <span style=\"color: #008080; text-decoration-color: #008080\">         0</span> │ <span style=\"color: #008080; text-decoration-color: #008080\">                          1</span> │ <span style=\"color: #008080; text-decoration-color: #008080\">                   7679</span> │  │\n",
       "│ │ <span style=\"color: #af87ff; text-decoration-color: #af87ff\">Bonus-Malus                 </span> │ <span style=\"color: #008080; text-decoration-color: #008080\">     0</span> │ <span style=\"color: #008080; text-decoration-color: #008080\">         0</span> │ <span style=\"color: #008080; text-decoration-color: #008080\">                          1</span> │ <span style=\"color: #008080; text-decoration-color: #008080\">                   7679</span> │  │\n",
       "│ └──────────────────────────────┴────────┴────────────┴─────────────────────────────┴─────────────────────────┘  │\n",
       "╰────────────────────────────────────────────────────── End ──────────────────────────────────────────────────────╯\n",
       "</pre>\n"
      ],
      "text/plain": [
       "╭──────────────────────────────────────────────── skimpy summary ─────────────────────────────────────────────────╮\n",
       "│ \u001b[3m         Data Summary         \u001b[0m \u001b[3m      Data Types       \u001b[0m                                                          │\n",
       "│ ┏━━━━━━━━━━━━━━━━━━━┳━━━━━━━━┓ ┏━━━━━━━━━━━━━┳━━━━━━━┓                                                          │\n",
       "│ ┃\u001b[1;36m \u001b[0m\u001b[1;36mdataframe        \u001b[0m\u001b[1;36m \u001b[0m┃\u001b[1;36m \u001b[0m\u001b[1;36mValues\u001b[0m\u001b[1;36m \u001b[0m┃ ┃\u001b[1;36m \u001b[0m\u001b[1;36mColumn Type\u001b[0m\u001b[1;36m \u001b[0m┃\u001b[1;36m \u001b[0m\u001b[1;36mCount\u001b[0m\u001b[1;36m \u001b[0m┃                                                          │\n",
       "│ ┡━━━━━━━━━━━━━━━━━━━╇━━━━━━━━┩ ┡━━━━━━━━━━━━━╇━━━━━━━┩                                                          │\n",
       "│ │ Number of rows    │ 7679   │ │ float64     │ 12    │                                                          │\n",
       "│ │ Number of columns │ 24     │ │ string      │ 7     │                                                          │\n",
       "│ └───────────────────┴────────┘ │ int32       │ 5     │                                                          │\n",
       "│                                └─────────────┴───────┘                                                          │\n",
       "│ \u001b[3m                                                    number                                                    \u001b[0m  │\n",
       "│ ┏━━━━━━━━━━━━━━━━━━━━━━━━━┳━━━━━━━┳━━━━━━━━┳━━━━━━━━┳━━━━━━━━┳━━━━━━━┳━━━━━━━┳━━━━━━━┳━━━━━━━┳━━━━━━┳━━━━━━━━┓  │\n",
       "│ ┃\u001b[1m \u001b[0m\u001b[1mcolumn_name            \u001b[0m\u001b[1m \u001b[0m┃\u001b[1m \u001b[0m\u001b[1mNA   \u001b[0m\u001b[1m \u001b[0m┃\u001b[1m \u001b[0m\u001b[1mNA %  \u001b[0m\u001b[1m \u001b[0m┃\u001b[1m \u001b[0m\u001b[1mmean  \u001b[0m\u001b[1m \u001b[0m┃\u001b[1m \u001b[0m\u001b[1msd    \u001b[0m\u001b[1m \u001b[0m┃\u001b[1m \u001b[0m\u001b[1mp0   \u001b[0m\u001b[1m \u001b[0m┃\u001b[1m \u001b[0m\u001b[1mp25  \u001b[0m\u001b[1m \u001b[0m┃\u001b[1m \u001b[0m\u001b[1mp50  \u001b[0m\u001b[1m \u001b[0m┃\u001b[1m \u001b[0m\u001b[1mp75  \u001b[0m\u001b[1m \u001b[0m┃\u001b[1m \u001b[0m\u001b[1mp100\u001b[0m\u001b[1m \u001b[0m┃\u001b[1m \u001b[0m\u001b[1mhist  \u001b[0m\u001b[1m \u001b[0m┃  │\n",
       "│ ┡━━━━━━━━━━━━━━━━━━━━━━━━━╇━━━━━━━╇━━━━━━━━╇━━━━━━━━╇━━━━━━━━╇━━━━━━━╇━━━━━━━╇━━━━━━━╇━━━━━━━╇━━━━━━╇━━━━━━━━┩  │\n",
       "│ │ \u001b[38;5;141mindex                  \u001b[0m │ \u001b[36m    0\u001b[0m │ \u001b[36m     0\u001b[0m │ \u001b[36m  3800\u001b[0m │ \u001b[36m  2200\u001b[0m │ \u001b[36m    0\u001b[0m │ \u001b[36m 1900\u001b[0m │ \u001b[36m 3800\u001b[0m │ \u001b[36m 5800\u001b[0m │ \u001b[36m7700\u001b[0m │ \u001b[32m▇▇▇▇▇▇\u001b[0m │  │\n",
       "│ │ \u001b[38;5;141mCylindrée              \u001b[0m │ \u001b[36m    0\u001b[0m │ \u001b[36m     0\u001b[0m │ \u001b[36m  1700\u001b[0m │ \u001b[36m   680\u001b[0m │ \u001b[36m    0\u001b[0m │ \u001b[36m 1400\u001b[0m │ \u001b[36m 1600\u001b[0m │ \u001b[36m 2000\u001b[0m │ \u001b[36m6700\u001b[0m │ \u001b[32m ▂▇▁  \u001b[0m │  │\n",
       "│ │ \u001b[38;5;141mPuissance fiscale      \u001b[0m │ \u001b[36m    0\u001b[0m │ \u001b[36m     0\u001b[0m │ \u001b[36m    10\u001b[0m │ \u001b[36m   7.7\u001b[0m │ \u001b[36m    1\u001b[0m │ \u001b[36m    6\u001b[0m │ \u001b[36m    8\u001b[0m │ \u001b[36m   10\u001b[0m │ \u001b[36m  91\u001b[0m │ \u001b[32m  ▇▁  \u001b[0m │  │\n",
       "│ │ \u001b[38;5;141mPuissance maximale     \u001b[0m │ \u001b[36m  269\u001b[0m │ \u001b[36m   3.5\u001b[0m │ \u001b[36m   130\u001b[0m │ \u001b[36m    66\u001b[0m │ \u001b[36m   48\u001b[0m │ \u001b[36m   92\u001b[0m │ \u001b[36m  110\u001b[0m │ \u001b[36m  140\u001b[0m │ \u001b[36m 610\u001b[0m │ \u001b[32m ▇▂▁  \u001b[0m │  │\n",
       "│ │ \u001b[38;5;141mPuissance nominale     \u001b[0m │ \u001b[36m 4925\u001b[0m │ \u001b[36m 64.14\u001b[0m │ \u001b[36m    25\u001b[0m │ \u001b[36m    32\u001b[0m │ \u001b[36m    0\u001b[0m │ \u001b[36m    0\u001b[0m │ \u001b[36m   10\u001b[0m │ \u001b[36m   48\u001b[0m │ \u001b[36m 200\u001b[0m │ \u001b[32m ▇▂▁  \u001b[0m │  │\n",
       "│ │ \u001b[38;5;141mélectrique             \u001b[0m │       │        │        │        │       │       │       │       │      │        │  │\n",
       "│ │ \u001b[38;5;141mPoids à vide           \u001b[0m │ \u001b[36m    0\u001b[0m │ \u001b[36m     0\u001b[0m │ \u001b[36m  1600\u001b[0m │ \u001b[36m   340\u001b[0m │ \u001b[36m  840\u001b[0m │ \u001b[36m 1300\u001b[0m │ \u001b[36m 1500\u001b[0m │ \u001b[36m 1800\u001b[0m │ \u001b[36m2700\u001b[0m │ \u001b[32m▂▇▆▃▁ \u001b[0m │  │\n",
       "│ │ \u001b[38;5;141mRapport poids-puissance\u001b[0m │ \u001b[36m    0\u001b[0m │ \u001b[36m     0\u001b[0m │ \u001b[36m 0.079\u001b[0m │ \u001b[36m 0.035\u001b[0m │ \u001b[36m    0\u001b[0m │ \u001b[36m 0.06\u001b[0m │ \u001b[36m 0.07\u001b[0m │ \u001b[36m 0.09\u001b[0m │ \u001b[36m0.37\u001b[0m │ \u001b[32m ▃▇▁  \u001b[0m │  │\n",
       "│ │ \u001b[38;5;141mNombre rapports        \u001b[0m │ \u001b[36m    0\u001b[0m │ \u001b[36m     0\u001b[0m │ \u001b[36m   6.7\u001b[0m │ \u001b[36m   1.9\u001b[0m │ \u001b[36m    0\u001b[0m │ \u001b[36m    6\u001b[0m │ \u001b[36m    7\u001b[0m │ \u001b[36m    8\u001b[0m │ \u001b[36m   9\u001b[0m │ \u001b[32m▁   ▇▆\u001b[0m │  │\n",
       "│ │ \u001b[38;5;141mConso basse vitesse    \u001b[0m │ \u001b[36m  989\u001b[0m │ \u001b[36m 12.88\u001b[0m │ \u001b[36m     8\u001b[0m │ \u001b[36m   2.2\u001b[0m │ \u001b[36m  3.2\u001b[0m │ \u001b[36m  6.7\u001b[0m │ \u001b[36m  7.8\u001b[0m │ \u001b[36m  8.9\u001b[0m │ \u001b[36m  30\u001b[0m │ \u001b[32m  ▇▇  \u001b[0m │  │\n",
       "│ │ \u001b[38;5;141mConso moyenne vitesse  \u001b[0m │ \u001b[36m  989\u001b[0m │ \u001b[36m 12.88\u001b[0m │ \u001b[36m   6.1\u001b[0m │ \u001b[36m   1.3\u001b[0m │ \u001b[36m  3.3\u001b[0m │ \u001b[36m  5.2\u001b[0m │ \u001b[36m  5.9\u001b[0m │ \u001b[36m  6.7\u001b[0m │ \u001b[36m  18\u001b[0m │ \u001b[32m ▆▇▁  \u001b[0m │  │\n",
       "│ │ \u001b[38;5;141mConso haute vitesse    \u001b[0m │ \u001b[36m  989\u001b[0m │ \u001b[36m 12.88\u001b[0m │ \u001b[36m   5.4\u001b[0m │ \u001b[36m     1\u001b[0m │ \u001b[36m  3.7\u001b[0m │ \u001b[36m  4.7\u001b[0m │ \u001b[36m  5.3\u001b[0m │ \u001b[36m  5.8\u001b[0m │ \u001b[36m  14\u001b[0m │ \u001b[32m ▇▆▁  \u001b[0m │  │\n",
       "│ │ \u001b[38;5;141mConso T-haute vitesse  \u001b[0m │ \u001b[36m  989\u001b[0m │ \u001b[36m 12.88\u001b[0m │ \u001b[36m   6.5\u001b[0m │ \u001b[36m   1.1\u001b[0m │ \u001b[36m  4.2\u001b[0m │ \u001b[36m  5.7\u001b[0m │ \u001b[36m  6.3\u001b[0m │ \u001b[36m    7\u001b[0m │ \u001b[36m  14\u001b[0m │ \u001b[32m ▅▇▂  \u001b[0m │  │\n",
       "│ │ \u001b[38;5;141mConso vitesse mixte    \u001b[0m │ \u001b[36m  395\u001b[0m │ \u001b[36m  5.14\u001b[0m │ \u001b[36m   5.9\u001b[0m │ \u001b[36m   1.7\u001b[0m │ \u001b[36m 0.56\u001b[0m │ \u001b[36m  5.2\u001b[0m │ \u001b[36m    6\u001b[0m │ \u001b[36m  6.8\u001b[0m │ \u001b[36m  17\u001b[0m │ \u001b[32m ▁▆▇  \u001b[0m │  │\n",
       "│ │ \u001b[38;5;141mConso elec             \u001b[0m │ \u001b[36m 6861\u001b[0m │ \u001b[36m 89.35\u001b[0m │ \u001b[36m   200\u001b[0m │ \u001b[36m    42\u001b[0m │ \u001b[36m  130\u001b[0m │ \u001b[36m  160\u001b[0m │ \u001b[36m  190\u001b[0m │ \u001b[36m  240\u001b[0m │ \u001b[36m 290\u001b[0m │ \u001b[32m▇▇▅▃▆▂\u001b[0m │  │\n",
       "│ │ \u001b[38;5;141mAutonomie elec         \u001b[0m │ \u001b[36m 6861\u001b[0m │ \u001b[36m 89.35\u001b[0m │ \u001b[36m   140\u001b[0m │ \u001b[36m   140\u001b[0m │ \u001b[36m   40\u001b[0m │ \u001b[36m   50\u001b[0m │ \u001b[36m   64\u001b[0m │ \u001b[36m  120\u001b[0m │ \u001b[36m 680\u001b[0m │ \u001b[32m ▇ ▁▁ \u001b[0m │  │\n",
       "│ │ \u001b[38;5;141mAutonomie elec urbain  \u001b[0m │ \u001b[36m 6861\u001b[0m │ \u001b[36m 89.35\u001b[0m │ \u001b[36m   170\u001b[0m │ \u001b[36m   180\u001b[0m │ \u001b[36m   41\u001b[0m │ \u001b[36m   55\u001b[0m │ \u001b[36m   74\u001b[0m │ \u001b[36m  170\u001b[0m │ \u001b[36m 740\u001b[0m │ \u001b[32m▇  ▁▁ \u001b[0m │  │\n",
       "│ │ \u001b[38;5;141mEmission CO2           \u001b[0m │ \u001b[36m  989\u001b[0m │ \u001b[36m 12.88\u001b[0m │ \u001b[36m   150\u001b[0m │ \u001b[36m    31\u001b[0m │ \u001b[36m   93\u001b[0m │ \u001b[36m  140\u001b[0m │ \u001b[36m  150\u001b[0m │ \u001b[36m  160\u001b[0m │ \u001b[36m 410\u001b[0m │ \u001b[32m ▇▇▁  \u001b[0m │  │\n",
       "│ └─────────────────────────┴───────┴────────┴────────┴────────┴───────┴───────┴───────┴───────┴──────┴────────┘  │\n",
       "│ \u001b[3m                                                    string                                                    \u001b[0m  │\n",
       "│ ┏━━━━━━━━━━━━━━━━━━━━━━━━━━━━━━┳━━━━━━━━┳━━━━━━━━━━━━┳━━━━━━━━━━━━━━━━━━━━━━━━━━━━━┳━━━━━━━━━━━━━━━━━━━━━━━━━┓  │\n",
       "│ ┃\u001b[1m \u001b[0m\u001b[1mcolumn_name                 \u001b[0m\u001b[1m \u001b[0m┃\u001b[1m \u001b[0m\u001b[1mNA    \u001b[0m\u001b[1m \u001b[0m┃\u001b[1m \u001b[0m\u001b[1mNA %      \u001b[0m\u001b[1m \u001b[0m┃\u001b[1m \u001b[0m\u001b[1mwords per row              \u001b[0m\u001b[1m \u001b[0m┃\u001b[1m \u001b[0m\u001b[1mtotal words            \u001b[0m\u001b[1m \u001b[0m┃  │\n",
       "│ ┡━━━━━━━━━━━━━━━━━━━━━━━━━━━━━━╇━━━━━━━━╇━━━━━━━━━━━━╇━━━━━━━━━━━━━━━━━━━━━━━━━━━━━╇━━━━━━━━━━━━━━━━━━━━━━━━━┩  │\n",
       "│ │ \u001b[38;5;141mMarque                      \u001b[0m │ \u001b[36m     0\u001b[0m │ \u001b[36m         0\u001b[0m │ \u001b[36m                          1\u001b[0m │ \u001b[36m                   7679\u001b[0m │  │\n",
       "│ │ \u001b[38;5;141mModèle                      \u001b[0m │ \u001b[36m     0\u001b[0m │ \u001b[36m         0\u001b[0m │ \u001b[36m                          1\u001b[0m │ \u001b[36m                   7679\u001b[0m │  │\n",
       "│ │ \u001b[38;5;141mEnergie                     \u001b[0m │ \u001b[36m     0\u001b[0m │ \u001b[36m         0\u001b[0m │ \u001b[36m                          1\u001b[0m │ \u001b[36m                   7679\u001b[0m │  │\n",
       "│ │ \u001b[38;5;141mCarrosserie                 \u001b[0m │ \u001b[36m     0\u001b[0m │ \u001b[36m         0\u001b[0m │ \u001b[36m                          1\u001b[0m │ \u001b[36m                   7679\u001b[0m │  │\n",
       "│ │ \u001b[38;5;141mGamme                       \u001b[0m │ \u001b[36m     0\u001b[0m │ \u001b[36m         0\u001b[0m │ \u001b[36m                          1\u001b[0m │ \u001b[36m                   7679\u001b[0m │  │\n",
       "│ │ \u001b[38;5;141mType de boite               \u001b[0m │ \u001b[36m     0\u001b[0m │ \u001b[36m         0\u001b[0m │ \u001b[36m                          1\u001b[0m │ \u001b[36m                   7679\u001b[0m │  │\n",
       "│ │ \u001b[38;5;141mBonus-Malus                 \u001b[0m │ \u001b[36m     0\u001b[0m │ \u001b[36m         0\u001b[0m │ \u001b[36m                          1\u001b[0m │ \u001b[36m                   7679\u001b[0m │  │\n",
       "│ └──────────────────────────────┴────────┴────────────┴─────────────────────────────┴─────────────────────────┘  │\n",
       "╰────────────────────────────────────────────────────── End ──────────────────────────────────────────────────────╯\n"
      ]
     },
     "metadata": {},
     "output_type": "display_data"
    }
   ],
   "source": [
    "skim(df)"
   ]
  },
  {
   "cell_type": "markdown",
   "metadata": {},
   "source": [
    "Les véhicules électriques n'émettent pas de CO2, ils sont enlevés du jeu de données pour la suite de l'analyse ainsi que pour la construction du modèle de prédiction. "
   ]
  },
  {
   "cell_type": "code",
   "execution_count": 22,
   "metadata": {},
   "outputs": [],
   "source": [
    "# remove electric vehicles\n",
    "df = df[df[\"Energie\"] != 'electric']"
   ]
  },
  {
   "cell_type": "code",
   "execution_count": 23,
   "metadata": {},
   "outputs": [
    {
     "data": {
      "text/html": [
       "<div>\n",
       "<style scoped>\n",
       "    .dataframe tbody tr th:only-of-type {\n",
       "        vertical-align: middle;\n",
       "    }\n",
       "\n",
       "    .dataframe tbody tr th {\n",
       "        vertical-align: top;\n",
       "    }\n",
       "\n",
       "    .dataframe thead th {\n",
       "        text-align: right;\n",
       "    }\n",
       "</style>\n",
       "<table border=\"1\" class=\"dataframe\">\n",
       "  <thead>\n",
       "    <tr style=\"text-align: right;\">\n",
       "      <th></th>\n",
       "      <th>index</th>\n",
       "      <th>Cylindrée</th>\n",
       "      <th>Puissance fiscale</th>\n",
       "      <th>Puissance maximale</th>\n",
       "      <th>Puissance nominale électrique</th>\n",
       "      <th>Poids à vide</th>\n",
       "      <th>Rapport poids-puissance</th>\n",
       "      <th>Nombre rapports</th>\n",
       "      <th>Conso basse vitesse</th>\n",
       "      <th>Conso moyenne vitesse</th>\n",
       "      <th>Conso haute vitesse</th>\n",
       "      <th>Conso T-haute vitesse</th>\n",
       "      <th>Conso vitesse mixte</th>\n",
       "      <th>Conso elec</th>\n",
       "      <th>Autonomie elec</th>\n",
       "      <th>Autonomie elec urbain</th>\n",
       "      <th>Emission CO2</th>\n",
       "    </tr>\n",
       "  </thead>\n",
       "  <tbody>\n",
       "    <tr>\n",
       "      <th>count</th>\n",
       "      <td>7409.000000</td>\n",
       "      <td>7409.000000</td>\n",
       "      <td>7409.000000</td>\n",
       "      <td>7409.000000</td>\n",
       "      <td>2484.000000</td>\n",
       "      <td>7409.000000</td>\n",
       "      <td>7409.000000</td>\n",
       "      <td>7409.000000</td>\n",
       "      <td>6690.000000</td>\n",
       "      <td>6690.000000</td>\n",
       "      <td>6690.000000</td>\n",
       "      <td>6690.000000</td>\n",
       "      <td>7284.000000</td>\n",
       "      <td>594.000000</td>\n",
       "      <td>594.000000</td>\n",
       "      <td>594.000000</td>\n",
       "      <td>6690.000000</td>\n",
       "    </tr>\n",
       "    <tr>\n",
       "      <th>mean</th>\n",
       "      <td>3844.402483</td>\n",
       "      <td>1796.202322</td>\n",
       "      <td>10.229856</td>\n",
       "      <td>130.021055</td>\n",
       "      <td>20.157009</td>\n",
       "      <td>1555.344986</td>\n",
       "      <td>0.082061</td>\n",
       "      <td>6.928195</td>\n",
       "      <td>8.018916</td>\n",
       "      <td>6.075571</td>\n",
       "      <td>5.407636</td>\n",
       "      <td>6.464161</td>\n",
       "      <td>5.897295</td>\n",
       "      <td>199.928636</td>\n",
       "      <td>61.744613</td>\n",
       "      <td>68.052020</td>\n",
       "      <td>154.651505</td>\n",
       "    </tr>\n",
       "    <tr>\n",
       "      <th>std</th>\n",
       "      <td>2214.697856</td>\n",
       "      <td>609.909070</td>\n",
       "      <td>7.806961</td>\n",
       "      <td>66.386992</td>\n",
       "      <td>27.228414</td>\n",
       "      <td>333.232021</td>\n",
       "      <td>0.031618</td>\n",
       "      <td>1.553918</td>\n",
       "      <td>2.238887</td>\n",
       "      <td>1.254111</td>\n",
       "      <td>1.027638</td>\n",
       "      <td>1.135738</td>\n",
       "      <td>1.719087</td>\n",
       "      <td>40.243956</td>\n",
       "      <td>18.477725</td>\n",
       "      <td>19.951523</td>\n",
       "      <td>30.739784</td>\n",
       "    </tr>\n",
       "    <tr>\n",
       "      <th>min</th>\n",
       "      <td>0.000000</td>\n",
       "      <td>875.000000</td>\n",
       "      <td>4.000000</td>\n",
       "      <td>48.000000</td>\n",
       "      <td>0.000000</td>\n",
       "      <td>840.000000</td>\n",
       "      <td>0.040000</td>\n",
       "      <td>0.000000</td>\n",
       "      <td>3.219000</td>\n",
       "      <td>3.327000</td>\n",
       "      <td>3.726000</td>\n",
       "      <td>4.238500</td>\n",
       "      <td>0.562000</td>\n",
       "      <td>133.500000</td>\n",
       "      <td>39.700000</td>\n",
       "      <td>41.350000</td>\n",
       "      <td>92.947000</td>\n",
       "    </tr>\n",
       "    <tr>\n",
       "      <th>25%</th>\n",
       "      <td>1926.000000</td>\n",
       "      <td>1469.000000</td>\n",
       "      <td>6.000000</td>\n",
       "      <td>91.900000</td>\n",
       "      <td>0.000000</td>\n",
       "      <td>1320.000000</td>\n",
       "      <td>0.060000</td>\n",
       "      <td>6.000000</td>\n",
       "      <td>6.663000</td>\n",
       "      <td>5.213500</td>\n",
       "      <td>4.709000</td>\n",
       "      <td>5.655000</td>\n",
       "      <td>5.243500</td>\n",
       "      <td>162.500000</td>\n",
       "      <td>48.000000</td>\n",
       "      <td>51.750000</td>\n",
       "      <td>135.540000</td>\n",
       "    </tr>\n",
       "    <tr>\n",
       "      <th>50%</th>\n",
       "      <td>3843.000000</td>\n",
       "      <td>1950.000000</td>\n",
       "      <td>8.000000</td>\n",
       "      <td>110.000000</td>\n",
       "      <td>8.000000</td>\n",
       "      <td>1490.000000</td>\n",
       "      <td>0.080000</td>\n",
       "      <td>7.000000</td>\n",
       "      <td>7.765000</td>\n",
       "      <td>5.912500</td>\n",
       "      <td>5.267500</td>\n",
       "      <td>6.296000</td>\n",
       "      <td>5.987000</td>\n",
       "      <td>192.850000</td>\n",
       "      <td>56.000000</td>\n",
       "      <td>61.000000</td>\n",
       "      <td>147.635000</td>\n",
       "    </tr>\n",
       "    <tr>\n",
       "      <th>75%</th>\n",
       "      <td>5760.000000</td>\n",
       "      <td>1995.000000</td>\n",
       "      <td>10.000000</td>\n",
       "      <td>140.000000</td>\n",
       "      <td>30.000000</td>\n",
       "      <td>1755.000000</td>\n",
       "      <td>0.090000</td>\n",
       "      <td>8.000000</td>\n",
       "      <td>8.862500</td>\n",
       "      <td>6.675500</td>\n",
       "      <td>5.840500</td>\n",
       "      <td>7.025000</td>\n",
       "      <td>6.752500</td>\n",
       "      <td>241.770000</td>\n",
       "      <td>74.000000</td>\n",
       "      <td>87.000000</td>\n",
       "      <td>164.659250</td>\n",
       "    </tr>\n",
       "    <tr>\n",
       "      <th>max</th>\n",
       "      <td>7678.000000</td>\n",
       "      <td>6749.000000</td>\n",
       "      <td>91.000000</td>\n",
       "      <td>607.000000</td>\n",
       "      <td>139.000000</td>\n",
       "      <td>2735.000000</td>\n",
       "      <td>0.370000</td>\n",
       "      <td>9.000000</td>\n",
       "      <td>29.914500</td>\n",
       "      <td>17.541500</td>\n",
       "      <td>13.632000</td>\n",
       "      <td>13.947000</td>\n",
       "      <td>16.521500</td>\n",
       "      <td>288.500000</td>\n",
       "      <td>112.000000</td>\n",
       "      <td>116.500000</td>\n",
       "      <td>411.010000</td>\n",
       "    </tr>\n",
       "  </tbody>\n",
       "</table>\n",
       "</div>"
      ],
      "text/plain": [
       "             index    Cylindrée  Puissance fiscale  Puissance maximale  \\\n",
       "count  7409.000000  7409.000000        7409.000000         7409.000000   \n",
       "mean   3844.402483  1796.202322          10.229856          130.021055   \n",
       "std    2214.697856   609.909070           7.806961           66.386992   \n",
       "min       0.000000   875.000000           4.000000           48.000000   \n",
       "25%    1926.000000  1469.000000           6.000000           91.900000   \n",
       "50%    3843.000000  1950.000000           8.000000          110.000000   \n",
       "75%    5760.000000  1995.000000          10.000000          140.000000   \n",
       "max    7678.000000  6749.000000          91.000000          607.000000   \n",
       "\n",
       "       Puissance nominale électrique  Poids à vide  Rapport poids-puissance  \\\n",
       "count                    2484.000000   7409.000000              7409.000000   \n",
       "mean                       20.157009   1555.344986                 0.082061   \n",
       "std                        27.228414    333.232021                 0.031618   \n",
       "min                         0.000000    840.000000                 0.040000   \n",
       "25%                         0.000000   1320.000000                 0.060000   \n",
       "50%                         8.000000   1490.000000                 0.080000   \n",
       "75%                        30.000000   1755.000000                 0.090000   \n",
       "max                       139.000000   2735.000000                 0.370000   \n",
       "\n",
       "       Nombre rapports  Conso basse vitesse  Conso moyenne vitesse  \\\n",
       "count      7409.000000          6690.000000            6690.000000   \n",
       "mean          6.928195             8.018916               6.075571   \n",
       "std           1.553918             2.238887               1.254111   \n",
       "min           0.000000             3.219000               3.327000   \n",
       "25%           6.000000             6.663000               5.213500   \n",
       "50%           7.000000             7.765000               5.912500   \n",
       "75%           8.000000             8.862500               6.675500   \n",
       "max           9.000000            29.914500              17.541500   \n",
       "\n",
       "       Conso haute vitesse  Conso T-haute vitesse  Conso vitesse mixte  \\\n",
       "count          6690.000000            6690.000000          7284.000000   \n",
       "mean              5.407636               6.464161             5.897295   \n",
       "std               1.027638               1.135738             1.719087   \n",
       "min               3.726000               4.238500             0.562000   \n",
       "25%               4.709000               5.655000             5.243500   \n",
       "50%               5.267500               6.296000             5.987000   \n",
       "75%               5.840500               7.025000             6.752500   \n",
       "max              13.632000              13.947000            16.521500   \n",
       "\n",
       "       Conso elec  Autonomie elec  Autonomie elec urbain  Emission CO2  \n",
       "count  594.000000      594.000000             594.000000   6690.000000  \n",
       "mean   199.928636       61.744613              68.052020    154.651505  \n",
       "std     40.243956       18.477725              19.951523     30.739784  \n",
       "min    133.500000       39.700000              41.350000     92.947000  \n",
       "25%    162.500000       48.000000              51.750000    135.540000  \n",
       "50%    192.850000       56.000000              61.000000    147.635000  \n",
       "75%    241.770000       74.000000              87.000000    164.659250  \n",
       "max    288.500000      112.000000             116.500000    411.010000  "
      ]
     },
     "execution_count": 23,
     "metadata": {},
     "output_type": "execute_result"
    }
   ],
   "source": [
    "df.describe()"
   ]
  },
  {
   "cell_type": "code",
   "execution_count": 24,
   "metadata": {},
   "outputs": [
    {
     "data": {
      "text/plain": [
       "Index(['index', 'Marque', 'Modèle', 'Energie', 'Carrosserie', 'Cylindrée',\n",
       "       'Gamme', 'Puissance fiscale', 'Puissance maximale',\n",
       "       'Puissance nominale électrique', 'Poids à vide',\n",
       "       'Rapport poids-puissance', 'Type de boite', 'Nombre rapports',\n",
       "       'Bonus-Malus', 'Conso basse vitesse', 'Conso moyenne vitesse',\n",
       "       'Conso haute vitesse', 'Conso T-haute vitesse', 'Conso vitesse mixte',\n",
       "       'Conso elec', 'Autonomie elec', 'Autonomie elec urbain',\n",
       "       'Emission CO2'],\n",
       "      dtype='object')"
      ]
     },
     "execution_count": 24,
     "metadata": {},
     "output_type": "execute_result"
    }
   ],
   "source": [
    "df.columns"
   ]
  },
  {
   "cell_type": "markdown",
   "metadata": {},
   "source": [
    "On remarque que les variables en lien avec la consommation électrique des véhicules présentent un grand nombre de variables manquantes. Cela s'explique par le fait que les véhicules thermiques classiques ne vont pas consommer d'électricité. On va donc remplacer ces valeurs par 0."
   ]
  },
  {
   "cell_type": "code",
   "execution_count": null,
   "metadata": {},
   "outputs": [],
   "source": [
    "# fill variables about electric consumption\n",
    "\n",
    "electrical_variables  = [\n",
    "    \"Autonomie elec\",\n",
    "    \"Puissance nominale électrique\",\n",
    "    \"Conso elec\",\n",
    "    \"Autonomie elec urbain\"\n",
    "    ]\n",
    "\n",
    "for col in electrical_variables:\n",
    "    df[col] = df[col].fillna(0)"
   ]
  },
  {
   "cell_type": "markdown",
   "metadata": {},
   "source": [
    "Concernant les autres variables numériques avec des valeurs manquantes ainsi que la variable cible, on complète les valeurs manquantes par la valeur médiane. "
   ]
  },
  {
   "cell_type": "code",
   "execution_count": null,
   "metadata": {},
   "outputs": [],
   "source": [
    "# fill other numerical variables\n",
    "for c in numerical:\n",
    "    df[c] = df[c].fillna(df[c].median())"
   ]
  },
  {
   "cell_type": "code",
   "execution_count": null,
   "metadata": {},
   "outputs": [],
   "source": [
    "# fill target variable\n",
    "df[\"Emission CO2\"] = df[\"Emission CO2\"].fillna(df[\"Emission CO2\"].median())"
   ]
  },
  {
   "cell_type": "code",
   "execution_count": null,
   "metadata": {},
   "outputs": [],
   "source": [
    "skim(df)"
   ]
  },
  {
   "cell_type": "markdown",
   "metadata": {},
   "source": [
    "Les variables manquantes ont été supprimées, on peut donc passer à l'analyse exploratoire des doonées."
   ]
  },
  {
   "cell_type": "markdown",
   "metadata": {},
   "source": [
    "## 2) Analyse exploratoire des données"
   ]
  },
  {
   "cell_type": "markdown",
   "metadata": {},
   "source": [
    "### a) Analyses univariées"
   ]
  },
  {
   "cell_type": "markdown",
   "metadata": {},
   "source": [
    "#### Analyse de la variable cible"
   ]
  },
  {
   "cell_type": "markdown",
   "metadata": {},
   "source": [
    "- Distribution de la variable cible : Emission de CO2"
   ]
  },
  {
   "cell_type": "code",
   "execution_count": null,
   "metadata": {},
   "outputs": [],
   "source": [
    "distribution_analysis(df, \"Emission CO2\", df[\"Emission CO2\"])"
   ]
  },
  {
   "cell_type": "markdown",
   "metadata": {},
   "source": [
    "Le coefficient d'asymétrie (skewness) montre une asymétrie de la distribution et le kurtosis indique la présence d'un pic important dans la distribution des émissions de CO2. Enfin le test de normalité montre que la distribution ne suit pas la loi normale.\n",
    "\n",
    "Il faudra donc effectuer une transformation logarithmique pour éviter que la forme de la distribution perturbe les modèles linéaires qui pourraient être utilisés dans notre recherche de modèle."
   ]
  },
  {
   "cell_type": "markdown",
   "metadata": {},
   "source": [
    "- Indices de tendance centrale et de dispersion : Emission de CO2"
   ]
  },
  {
   "cell_type": "code",
   "execution_count": null,
   "metadata": {},
   "outputs": [],
   "source": [
    "numerical_analysis(df, \"Emission CO2\")"
   ]
  },
  {
   "cell_type": "markdown",
   "metadata": {},
   "source": [
    "Les émissions de CO2 sont comprises entre 92.947 g et 411.01 g. La moyenne est de 153.97g et la médiane de 147.63g. L'écart-type est de 29.28g et l'intervalle interquartile de 25.652g. "
   ]
  },
  {
   "cell_type": "code",
   "execution_count": null,
   "metadata": {},
   "outputs": [],
   "source": [
    "# log transformation\n",
    "df[\"Emission CO2\"] = np.log1p(df[\"Emission CO2\"])"
   ]
  },
  {
   "cell_type": "markdown",
   "metadata": {},
   "source": [
    "#### Analyse des variables catégorielles"
   ]
  },
  {
   "cell_type": "code",
   "execution_count": null,
   "metadata": {},
   "outputs": [],
   "source": [
    "for col in ['Energie', 'Carrosserie', 'Gamme', 'Bonus-Malus', \"Type de boite\"]:\n",
    "    categorical_analysis(df, col)"
   ]
  },
  {
   "cell_type": "code",
   "execution_count": null,
   "metadata": {},
   "outputs": [],
   "source": [
    "plt.figure(figsize=(15,15))\n",
    "\n",
    "sns.countplot(\n",
    "    y=\"Marque\",\n",
    "    data=df,\n",
    "    stat=\"percent\"\n",
    ")\n",
    "plt.ylabel(\"Pourcentage (%)\")\n",
    "plt.title(f\"Répartition des véhicules selon les marques\")\n",
    "plt.show()"
   ]
  },
  {
   "cell_type": "code",
   "execution_count": null,
   "metadata": {},
   "outputs": [],
   "source": [
    "for col in numerical:\n",
    "    distribution_analysis(df, col, df[col])"
   ]
  },
  {
   "cell_type": "code",
   "execution_count": null,
   "metadata": {},
   "outputs": [],
   "source": [
    "for col in numerical:\n",
    "    numerical_analysis(df, col)"
   ]
  },
  {
   "cell_type": "markdown",
   "metadata": {},
   "source": [
    "### 2) Analyse bivariée"
   ]
  },
  {
   "cell_type": "markdown",
   "metadata": {},
   "source": [
    "#### Variables quantitatives"
   ]
  },
  {
   "cell_type": "code",
   "execution_count": null,
   "metadata": {},
   "outputs": [],
   "source": [
    "numerical.append(\"Emission CO2\")"
   ]
  },
  {
   "cell_type": "markdown",
   "metadata": {},
   "source": [
    "- Matrice de corrélation"
   ]
  },
  {
   "cell_type": "code",
   "execution_count": null,
   "metadata": {},
   "outputs": [],
   "source": [
    "corr_matrix = df[numerical].corr()\n",
    "mask = np.triu(corr_matrix)\n",
    "\n",
    "plt.figure(figsize=(15,15))\n",
    "sns.heatmap(corr_matrix,\n",
    "            mask=mask,\n",
    "            linewidths=.5,\n",
    "            annot=True,\n",
    "            cbar=True,\n",
    "            square=True)\n",
    "plt.title(\"Matrice de corrélation entre les différentes variables quantitatives.\")\n",
    "plt.show()"
   ]
  },
  {
   "cell_type": "code",
   "execution_count": null,
   "metadata": {},
   "outputs": [],
   "source": [
    "# removing variables with poor correlation coefficient\n",
    "del df[\"Puissance nominale électrique\"]\n",
    "del df[\"Conso elec\"]\n",
    "del df[\"Autonomie elec\"]\n",
    "del df[\"Autonomie elec urbain\"]"
   ]
  },
  {
   "cell_type": "code",
   "execution_count": null,
   "metadata": {},
   "outputs": [],
   "source": [
    "variables_to_remove = [\"Puissance nominale électrique\", \"Conso elec\", \"Autonomie elec\", \"Autonomie elec urbain\", \"Emission CO2\"]\n",
    "numerical = [x for x in numerical if x not in variables_to_remove]"
   ]
  },
  {
   "cell_type": "markdown",
   "metadata": {},
   "source": [
    "- Régression linéaire entre émission de CO2 et les variables quantitatives"
   ]
  },
  {
   "cell_type": "code",
   "execution_count": null,
   "metadata": {},
   "outputs": [],
   "source": [
    "for col in numerical:\n",
    "    linear_regression_analysis(df, col, \"Emission CO2\")"
   ]
  },
  {
   "cell_type": "markdown",
   "metadata": {},
   "source": [
    "### Variables catégorielles"
   ]
  },
  {
   "cell_type": "code",
   "execution_count": null,
   "metadata": {},
   "outputs": [],
   "source": [
    "for col in ['Energie', 'Carrosserie', 'Gamme', 'Bonus-Malus', \"Type de boite\"]:\n",
    "    categorical_relation(df, col, \"Emission CO2\")"
   ]
  },
  {
   "cell_type": "markdown",
   "metadata": {},
   "source": [
    "## 3) Préparation des données pour modélisation"
   ]
  },
  {
   "cell_type": "code",
   "execution_count": null,
   "metadata": {},
   "outputs": [],
   "source": [
    "df_train, df_test = train_test_split(df, test_size=0.2, random_state=42)"
   ]
  },
  {
   "cell_type": "code",
   "execution_count": null,
   "metadata": {},
   "outputs": [],
   "source": [
    "df_train = df_train.reset_index(drop=True)\n",
    "df_test = df_test.reset_index(drop=True)"
   ]
  },
  {
   "cell_type": "code",
   "execution_count": null,
   "metadata": {},
   "outputs": [],
   "source": [
    "y_train = df_train[\"Emission CO2\"].values\n",
    "y_test = df_test[\"Emission CO2\"].values"
   ]
  },
  {
   "cell_type": "code",
   "execution_count": null,
   "metadata": {},
   "outputs": [],
   "source": [
    "del df_train['Emission CO2']\n",
    "del df_test['Emission CO2']"
   ]
  },
  {
   "cell_type": "code",
   "execution_count": null,
   "metadata": {},
   "outputs": [],
   "source": [
    "numerical = [i for i in list(df.columns) if i not in categorical]\n",
    "numerical.pop(-1)"
   ]
  },
  {
   "cell_type": "code",
   "execution_count": null,
   "metadata": {},
   "outputs": [],
   "source": [
    "train_dicts = df_train.to_dict(orient='records')\n",
    "test_dicts = df_test.to_dict(orient='records')"
   ]
  },
  {
   "cell_type": "code",
   "execution_count": null,
   "metadata": {},
   "outputs": [],
   "source": [
    "dv = DictVectorizer(sparse=False)\n",
    "X_train = dv.fit_transform(train_dicts)\n",
    "X_test = dv.transform(test_dicts)"
   ]
  },
  {
   "cell_type": "markdown",
   "metadata": {},
   "source": [
    "### 4) Choix du modèle"
   ]
  },
  {
   "cell_type": "markdown",
   "metadata": {},
   "source": [
    "#### Baseline"
   ]
  },
  {
   "cell_type": "code",
   "execution_count": null,
   "metadata": {},
   "outputs": [],
   "source": [
    "dummy = DummyRegressor(strategy=\"median\")\n",
    "dummy.fit(X_train, y_train)"
   ]
  },
  {
   "cell_type": "code",
   "execution_count": null,
   "metadata": {},
   "outputs": [],
   "source": [
    "y_pred = dummy.predict(X_test)"
   ]
  },
  {
   "cell_type": "code",
   "execution_count": null,
   "metadata": {},
   "outputs": [],
   "source": [
    "rmse = round(np.sqrt(mean_squared_error(y_test, y_pred)), 5)\n",
    "mape = round(mean_absolute_percentage_error(y_test, y_pred), 5)\n",
    "print(f\"rmse : {rmse} & mape : {mape}\")"
   ]
  },
  {
   "cell_type": "code",
   "execution_count": null,
   "metadata": {},
   "outputs": [],
   "source": [
    "del y_pred\n",
    "del rmse\n",
    "del mape\n",
    "gc.collect()"
   ]
  },
  {
   "cell_type": "markdown",
   "metadata": {},
   "source": [
    "#### Random Forest Regressor"
   ]
  },
  {
   "cell_type": "code",
   "execution_count": null,
   "metadata": {},
   "outputs": [],
   "source": [
    "rf = RandomForestRegressor(random_state=42,\n",
    "                           n_jobs=-1)\n",
    "rf.fit(X_train, y_train)"
   ]
  },
  {
   "cell_type": "code",
   "execution_count": null,
   "metadata": {},
   "outputs": [],
   "source": [
    "y_pred = rf.predict(X_test)"
   ]
  },
  {
   "cell_type": "code",
   "execution_count": null,
   "metadata": {},
   "outputs": [],
   "source": [
    "rmse = round(np.sqrt(mean_squared_error(y_test, y_pred)), 5)\n",
    "mape = round(mean_absolute_percentage_error(y_test, y_pred), 5)\n",
    "print(f\"rmse : {rmse} & mape : {mape}\")"
   ]
  },
  {
   "cell_type": "code",
   "execution_count": null,
   "metadata": {},
   "outputs": [],
   "source": [
    "param_distribs = {\n",
    "    \"n_estimators\" : [int(x) for x in np.linspace(50, 500, 10)],\n",
    "    \"max_depth\" : [int(x) for x in np.linspace(5, 16, 10)],\n",
    "    \"min_samples_leaf\" : randint(2, 10),\n",
    "    \"min_samples_split\" : randint(2, 10),\n",
    "    \"bootstrap\" : [True, False]\n",
    "\n",
    "}\n",
    "\n",
    "rf_rnd_search = RandomizedSearchCV(rf,\n",
    "                                   param_distributions=param_distribs,\n",
    "                                   n_iter=100,\n",
    "                                   cv=5,\n",
    "                                   scoring=\"neg_mean_squared_error\",\n",
    "                                   random_state=42)\n",
    "rf_rnd_search.fit(X_train, y_train)"
   ]
  },
  {
   "cell_type": "code",
   "execution_count": null,
   "metadata": {},
   "outputs": [],
   "source": [
    "rf_rnd_search.best_params_"
   ]
  },
  {
   "cell_type": "code",
   "execution_count": null,
   "metadata": {},
   "outputs": [],
   "source": [
    "params = [{\n",
    "    \"n_estimators\" : [120, 130, 140, 150],\n",
    "    \"max_depth\" : [11, 12, 13],\n",
    "    \"min_samples_leaf\" : [2, 3],\n",
    "    \"min_samples_split\" : [2, 3],\n",
    "    \"bootstrap\" : [True]\n",
    "}]\n",
    "\n",
    "rf_grid_search = GridSearchCV(rf,\n",
    "                            params,\n",
    "                            cv=5,\n",
    "                            scoring=\"neg_mean_squared_error\")\n",
    "rf_grid_search.fit(X_train,\n",
    "                   y_train)"
   ]
  },
  {
   "cell_type": "code",
   "execution_count": null,
   "metadata": {},
   "outputs": [],
   "source": [
    "rf_grid_search.best_params_"
   ]
  },
  {
   "cell_type": "code",
   "execution_count": null,
   "metadata": {},
   "outputs": [],
   "source": [
    "rf = rf_grid_search.best_estimator_"
   ]
  },
  {
   "cell_type": "code",
   "execution_count": null,
   "metadata": {},
   "outputs": [],
   "source": [
    "y_pred = rf.predict(X_test)"
   ]
  },
  {
   "cell_type": "code",
   "execution_count": null,
   "metadata": {},
   "outputs": [],
   "source": [
    "rmse = round(np.sqrt(mean_squared_error(y_test, y_pred)), 5)\n",
    "mape = round(mean_absolute_percentage_error(y_test, y_pred), 5)\n",
    "print(f\"rmse : {rmse} & mape : {mape}\")"
   ]
  },
  {
   "cell_type": "code",
   "execution_count": null,
   "metadata": {},
   "outputs": [],
   "source": [
    "df_importances = pd.DataFrame()\n",
    "df_importances['feature'] = dv.feature_names_\n",
    "df_importances['importance'] = rf.feature_importances_\n",
    "df_importances.sort_values(by=\"importance\", ascending=False).head(10)"
   ]
  }
 ],
 "metadata": {
  "kernelspec": {
   "display_name": "Python 3",
   "language": "python",
   "name": "python3"
  },
  "language_info": {
   "codemirror_mode": {
    "name": "ipython",
    "version": 3
   },
   "file_extension": ".py",
   "mimetype": "text/x-python",
   "name": "python",
   "nbconvert_exporter": "python",
   "pygments_lexer": "ipython3",
   "version": "3.11.4"
  }
 },
 "nbformat": 4,
 "nbformat_minor": 2
}
